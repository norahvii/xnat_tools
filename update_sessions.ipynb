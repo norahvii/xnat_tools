{
 "cells": [
  {
   "cell_type": "code",
   "execution_count": 1,
   "id": "c2f23bf5-864e-4150-a7d2-f37f8c447572",
   "metadata": {},
   "outputs": [],
   "source": [
    "import pandas as pd\n",
    "import re, requests, getpass\n",
    "import os, glob, time, subprocess\n",
    "import ipywidgets as widgets\n",
    "from bs4 import BeautifulSoup"
   ]
  },
  {
   "cell_type": "code",
   "execution_count": 2,
   "id": "3f61f931-c7d2-40fb-af97-6992821e26f8",
   "metadata": {},
   "outputs": [],
   "source": [
    "os.chdir('/mnt/benzinger3/norah/py_scripts/status_helper')\n",
    "# Populate our data\n",
    "# Add the pet_status information for each respective csv file\n",
    "pet_statuses = pd.read_csv('pet_statuses.csv')\n",
    "mr_statuses = pd.read_csv('mr_statuses.csv')"
   ]
  },
  {
   "cell_type": "code",
   "execution_count": 3,
   "id": "4aea7692-43e3-4bcf-b353-b06ad006a477",
   "metadata": {},
   "outputs": [],
   "source": [
    "# Change working directory to where most recent reports are located\n",
    "os.chdir('/mnt/benzinger3/dian_proc_report/data')\n",
    "# Set the current time to the date of the most recent report\n",
    "now = time.strftime(\"%Y%m%d\")\n",
    "# //////////////////////////\n",
    "# /////  MANUTAL TIME  ////\n",
    "# ////////////////////////\n",
    "# ls -l -rt | tail -n 4\n",
    "now = '20231218'\n",
    "# Read the most recent report information from the respecte mr and pup files\n",
    "dian_mrfs_data = pd.read_csv(f\"{now}_dian_mrfs_data.csv\")\n",
    "dian_petpup_data = pd.read_csv(f\"{now}_dian_petpup_data.csv\")\n",
    "# Filter the data so it only includes what we will need for our status_set_scripts\n",
    "filtered_dian_mrfs_data = dian_mrfs_data[['session','accession','mr_status']]\n",
    "filtered_dian_petpup_data = dian_petpup_data[['session','accession','pet_status']]"
   ]
  },
  {
   "cell_type": "code",
   "execution_count": 4,
   "id": "91acafbc-09d2-4559-9c8b-221bbfc44513",
   "metadata": {},
   "outputs": [],
   "source": [
    "# Generate MR selection widget\n",
    "selected_mr_status = []\n",
    "# Load Functions: \n",
    "def display_mr_status_buttons():\n",
    "    # Create button for each mr_status\n",
    "    buttons = []\n",
    "    for button in [i for i in mr_statuses.iloc[:, 0]]:\n",
    "        if pd.isna(button):\n",
    "            button = \"null\"\n",
    "        button = widgets.Button(description=str(button))\n",
    "        buttons.append(button)\n",
    "    # Create callback function for button click\n",
    "    def on_button_click(b):\n",
    "        selected_mr_status.clear()  # clear previously selected buttons\n",
    "        selected_mr_status.append(b.description)\n",
    "        # Update selection widget\n",
    "        mr_selection_widget.value = f\"Current selection: {b.description}\"\n",
    "    # Attach callback function to buttons\n",
    "    for button in buttons:\n",
    "        button.on_click(on_button_click)\n",
    "    # Define the layout for the buttons\n",
    "    grid_layout = widgets.Layout(\n",
    "        grid_template_columns='repeat(5, 150px)',\n",
    "        grid_gap='10px'\n",
    "    )\n",
    "    # Create a grid of buttons\n",
    "    button_grid = widgets.GridBox(buttons, layout=grid_layout)\n",
    "    # Display the grid of buttons\n",
    "    display(button_grid)\n",
    "    \n",
    "# Generate PUP selection widget\n",
    "selected_pet_status = []\n",
    "# Load Functions: \n",
    "def display_pet_status_buttons():\n",
    "    # Create button for each mr_status\n",
    "    buttons = []\n",
    "    for button in [i for i in pet_statuses.iloc[:, 0]]:\n",
    "        button = widgets.Button(description=button)\n",
    "        buttons.append(button)\n",
    "    # Create callback function for button click\n",
    "    def on_button_click(b):\n",
    "        selected_pet_status.clear()  # clear previously selected buttons\n",
    "        selected_pet_status.append(b.description)\n",
    "        # Update selection widget\n",
    "        pup_selection_widget.value = f\"Current selection: {b.description}\"\n",
    "    # Attach callback function to buttons\n",
    "    for button in buttons:\n",
    "        button.on_click(on_button_click)\n",
    "    # Define the layout for the buttons\n",
    "    grid_layout = widgets.Layout(\n",
    "        grid_template_columns='repeat(5, 150px)',\n",
    "        grid_gap='10px'\n",
    "    )\n",
    "    # Create a grid of buttons\n",
    "    button_grid = widgets.GridBox(buttons, layout=grid_layout)\n",
    "    # Display the grid of buttons\n",
    "    display(button_grid)\n",
    "    \n",
    "    \n",
    "# Generate data collection widget\n",
    "def get_accessions():\n",
    "    global paired_data\n",
    "    formatted_inputted_data = inputted_data.split('\\n')\n",
    "    # create an empty list to hold the session-accession pairs\n",
    "    session_accession_pairs = []\n",
    "    # iterate through each row of the filtered_dian_petpup_data data frame\n",
    "    for index, row in filtered_dian_petpup_data.iterrows(): #  and filtered_dian_mrfs_data.iterrows():\n",
    "        # check if the session value in the row is in the input list\n",
    "        if row['session'] in formatted_inputted_data:\n",
    "            # if it is, add a tuple of the session and accession values to the pairs list\n",
    "            session_accession_pairs.append((row['session'], row['accession']))\n",
    "    # iterate through each row of the filtered_dian_mrfs_data data frame\n",
    "    for index, row in filtered_dian_mrfs_data.iterrows():\n",
    "        # check if the session value in the row is in the input list\n",
    "        if row['session'] in formatted_inputted_data:\n",
    "            # if it is, add a tuple of the session and accession values to the pairs list\n",
    "            session_accession_pairs.append((row['session'], row['accession']))          \n",
    "    # create a new data frame from the session-accession pairs list\n",
    "    paired_data = pd.DataFrame(session_accession_pairs, columns=['session', 'accession'])\n",
    "    # display the new data frame\n",
    "    print(paired_data)\n",
    "    \n",
    "def get_sessions():\n",
    "    print(\"Paste your data here: \")\n",
    "    text_box = widgets.Textarea(\n",
    "        value='',\n",
    "        placeholder=\"\"\"for example:\n",
    "session_1\n",
    "session_2\n",
    "session_3\"\"\",\n",
    "        description='',\n",
    "        disabled=False\n",
    "    )\n",
    "\n",
    "    submit_button = widgets.Button(description='Submit')\n",
    "    output = widgets.Output()\n",
    "    # On click button\n",
    "    def on_submit_button_clicked(b):\n",
    "        with output:\n",
    "            global inputted_data\n",
    "            inputted_data = text_box.value\n",
    "            print('Data saved and accessions identified:')\n",
    "            # Call helper function\n",
    "            get_accessions()\n",
    "\n",
    "    submit_button.on_click(on_submit_button_clicked)\n",
    "    # Generate display\n",
    "    display(text_box)\n",
    "    display(submit_button)\n",
    "    display(output)"
   ]
  },
  {
   "cell_type": "code",
   "execution_count": 5,
   "id": "6712dacf-1322-46f8-b9bc-966b3496bd71",
   "metadata": {},
   "outputs": [
    {
     "name": "stdout",
     "output_type": "stream",
     "text": [
      "Select an MR status option: \n"
     ]
    },
    {
     "data": {
      "application/vnd.jupyter.widget-view+json": {
       "model_id": "48d581e18a88413a8d1b07b87a046688",
       "version_major": 2,
       "version_minor": 0
      },
      "text/plain": [
       "GridBox(children=(Button(description='Usable', style=ButtonStyle()), Button(description='1.5T Scanner', style=…"
      ]
     },
     "metadata": {},
     "output_type": "display_data"
    },
    {
     "data": {
      "application/vnd.jupyter.widget-view+json": {
       "model_id": "4fc1049a4cf644e98a3303c8751283e4",
       "version_major": 2,
       "version_minor": 0
      },
      "text/plain": [
       "HTML(value='Current MR selection: ')"
      ]
     },
     "metadata": {},
     "output_type": "display_data"
    }
   ],
   "source": [
    "# Create MR selection widget\n",
    "mr_selection_widget = widgets.HTML(value=\"Current MR selection: \")\n",
    "print(\"Select an MR status option: \")\n",
    "display_mr_status_buttons()\n",
    "# Display selection widget\n",
    "display(mr_selection_widget)"
   ]
  },
  {
   "cell_type": "code",
   "execution_count": 6,
   "id": "4c7d4ab2-4ff0-4542-b407-1b26f3f13085",
   "metadata": {},
   "outputs": [
    {
     "name": "stdout",
     "output_type": "stream",
     "text": [
      "Select an PET status option: \n"
     ]
    },
    {
     "data": {
      "application/vnd.jupyter.widget-view+json": {
       "model_id": "51127af977964a05850a7a7260ab6cc6",
       "version_major": 2,
       "version_minor": 0
      },
      "text/plain": [
       "GridBox(children=(Button(description='Usable', style=ButtonStyle()), Button(description='MRI Unavailable', sty…"
      ]
     },
     "metadata": {},
     "output_type": "display_data"
    },
    {
     "data": {
      "application/vnd.jupyter.widget-view+json": {
       "model_id": "8b835baf01804bf8934948b854043b56",
       "version_major": 2,
       "version_minor": 0
      },
      "text/plain": [
       "HTML(value='Current PUP selection: ')"
      ]
     },
     "metadata": {},
     "output_type": "display_data"
    }
   ],
   "source": [
    "# Create PET selection widget\n",
    "pup_selection_widget = widgets.HTML(value=\"Current PUP selection: \")\n",
    "print(\"Select an PET status option: \")\n",
    "display_pet_status_buttons()\n",
    "# Display selection widget\n",
    "display(pup_selection_widget)"
   ]
  },
  {
   "cell_type": "code",
   "execution_count": 7,
   "id": "a1999a20-1432-4e4e-b73e-a4252464538d",
   "metadata": {},
   "outputs": [
    {
     "name": "stdout",
     "output_type": "stream",
     "text": [
      "Paste your data here: \n"
     ]
    },
    {
     "data": {
      "application/vnd.jupyter.widget-view+json": {
       "model_id": "e1d52190babc4f3496bec99c042ad858",
       "version_major": 2,
       "version_minor": 0
      },
      "text/plain": [
       "Textarea(value='', placeholder='for example:\\nsession_1\\nsession_2\\nsession_3')"
      ]
     },
     "metadata": {},
     "output_type": "display_data"
    },
    {
     "data": {
      "application/vnd.jupyter.widget-view+json": {
       "model_id": "c40302105704425fa144a601212202eb",
       "version_major": 2,
       "version_minor": 0
      },
      "text/plain": [
       "Button(description='Submit', style=ButtonStyle())"
      ]
     },
     "metadata": {},
     "output_type": "display_data"
    },
    {
     "data": {
      "application/vnd.jupyter.widget-view+json": {
       "model_id": "ebe82be521d246fb856b43a4070bef28",
       "version_major": 2,
       "version_minor": 0
      },
      "text/plain": [
       "Output()"
      ]
     },
     "metadata": {},
     "output_type": "display_data"
    }
   ],
   "source": [
    "get_sessions()"
   ]
  },
  {
   "cell_type": "code",
   "execution_count": 9,
   "id": "6dbafae3-b97d-4986-96bc-772c7883628a",
   "metadata": {},
   "outputs": [
    {
     "data": {
      "text/html": [
       "<div>\n",
       "<style scoped>\n",
       "    .dataframe tbody tr th:only-of-type {\n",
       "        vertical-align: middle;\n",
       "    }\n",
       "\n",
       "    .dataframe tbody tr th {\n",
       "        vertical-align: top;\n",
       "    }\n",
       "\n",
       "    .dataframe thead th {\n",
       "        text-align: right;\n",
       "    }\n",
       "</style>\n",
       "<table border=\"1\" class=\"dataframe\">\n",
       "  <thead>\n",
       "    <tr style=\"text-align: right;\">\n",
       "      <th></th>\n",
       "      <th>session</th>\n",
       "      <th>accession</th>\n",
       "    </tr>\n",
       "  </thead>\n",
       "  <tbody>\n",
       "    <tr>\n",
       "      <th>0</th>\n",
       "      <td>3011006_MR_GOLE_US17</td>\n",
       "      <td>DCA74_E00172</td>\n",
       "    </tr>\n",
       "    <tr>\n",
       "      <th>1</th>\n",
       "      <td>3011006_MR_GOLE_US18</td>\n",
       "      <td>DCA75_E00915</td>\n",
       "    </tr>\n",
       "    <tr>\n",
       "      <th>2</th>\n",
       "      <td>3011006_MR_GOLE_US19</td>\n",
       "      <td>DCA76_E00247</td>\n",
       "    </tr>\n",
       "    <tr>\n",
       "      <th>3</th>\n",
       "      <td>3031005_MR_GOLE_US10</td>\n",
       "      <td>DCA70_E00048</td>\n",
       "    </tr>\n",
       "    <tr>\n",
       "      <th>4</th>\n",
       "      <td>4011002_MR_GOLE_TOSM1020</td>\n",
       "      <td>DCA75_E00324</td>\n",
       "    </tr>\n",
       "    <tr>\n",
       "      <th>5</th>\n",
       "      <td>7011006_MR_GOLE_TOSM1500</td>\n",
       "      <td>DCA63_E01385</td>\n",
       "    </tr>\n",
       "    <tr>\n",
       "      <th>6</th>\n",
       "      <td>7011015_MR_GOLE_OSM1</td>\n",
       "      <td>DIANTU46_E01775</td>\n",
       "    </tr>\n",
       "    <tr>\n",
       "      <th>7</th>\n",
       "      <td>7011016_MR_GOLE_OSM1</td>\n",
       "      <td>DIANTU46_E00659</td>\n",
       "    </tr>\n",
       "    <tr>\n",
       "      <th>8</th>\n",
       "      <td>1044003_MR_E2814_V8</td>\n",
       "      <td>DCA91_E00053</td>\n",
       "    </tr>\n",
       "    <tr>\n",
       "      <th>9</th>\n",
       "      <td>2044004_MR_E2814_V2</td>\n",
       "      <td>DCA88_E00241</td>\n",
       "    </tr>\n",
       "    <tr>\n",
       "      <th>10</th>\n",
       "      <td>2044005_MR_E2814_V2</td>\n",
       "      <td>DCA91_E00020</td>\n",
       "    </tr>\n",
       "  </tbody>\n",
       "</table>\n",
       "</div>"
      ],
      "text/plain": [
       "                     session        accession\n",
       "0       3011006_MR_GOLE_US17     DCA74_E00172\n",
       "1       3011006_MR_GOLE_US18     DCA75_E00915\n",
       "2       3011006_MR_GOLE_US19     DCA76_E00247\n",
       "3       3031005_MR_GOLE_US10     DCA70_E00048\n",
       "4   4011002_MR_GOLE_TOSM1020     DCA75_E00324\n",
       "5   7011006_MR_GOLE_TOSM1500     DCA63_E01385\n",
       "6       7011015_MR_GOLE_OSM1  DIANTU46_E01775\n",
       "7       7011016_MR_GOLE_OSM1  DIANTU46_E00659\n",
       "8        1044003_MR_E2814_V8     DCA91_E00053\n",
       "9        2044004_MR_E2814_V2     DCA88_E00241\n",
       "10       2044005_MR_E2814_V2     DCA91_E00020"
      ]
     },
     "execution_count": 9,
     "metadata": {},
     "output_type": "execute_result"
    }
   ],
   "source": [
    "paired_data"
   ]
  },
  {
   "cell_type": "code",
   "execution_count": 10,
   "id": "6a079934-6a47-44f9-827e-8bd8bbf1b3c7",
   "metadata": {},
   "outputs": [
    {
     "name": "stdout",
     "output_type": "stream",
     "text": [
      "Selected accessions: \n",
      "['DCA74_E00172', 'DCA75_E00915', 'DCA76_E00247', 'DCA70_E00048', 'DCA75_E00324', 'DCA63_E01385', 'DIANTU46_E01775', 'DIANTU46_E00659', 'DCA91_E00053', 'DCA88_E00241', 'DCA91_E00020']\n",
      "Selected MR Status: Usable\n",
      "MR STATUS CHANGES:\n",
      "DCA74_E00172 -> Usable\n",
      "DCA75_E00915 -> Usable\n",
      "DCA76_E00247 -> Usable\n",
      "DCA70_E00048 -> Usable\n",
      "DCA75_E00324 -> Usable\n",
      "DCA63_E01385 -> Usable\n",
      "DIANTU46_E01775 -> Usable\n",
      "DIANTU46_E00659 -> Usable\n",
      "DCA91_E00053 -> Usable\n",
      "DCA88_E00241 -> Usable\n",
      "DCA91_E00020 -> Usable\n"
     ]
    }
   ],
   "source": [
    "# MR\n",
    "accession_list = [i for i in paired_data.iloc[:, 1]]\n",
    "########-- ACCESSIONS --##########\n",
    "print(\"Selected accessions: \")\n",
    "print(accession_list)\n",
    "\n",
    "#########-- MR STATUS --##########\n",
    "MRStatus = str(selected_mr_status[0])\n",
    "print(f\"Selected MR Status: {MRStatus}\")\n",
    "\n",
    "print(\"MR STATUS CHANGES:\")\n",
    "for i in accession_list:\n",
    "    pet_accession_number = i\n",
    "    print(i + ' -> ' + MRStatus)\n",
    "    # Updates MR status"
   ]
  },
  {
   "cell_type": "code",
   "execution_count": null,
   "id": "1a84b04e-00fb-431f-9dc9-9a524bc0cda7",
   "metadata": {},
   "outputs": [],
   "source": [
    "# PET\n",
    "accession_list = [i for i in paired_data.iloc[:, 1]]\n",
    "########-- ACCESSIONS --##########\n",
    "print(\"Selected accessions: \")\n",
    "print(accession_list)\n",
    "\n",
    "#########-- PET STATUS --#########\n",
    "PETStatus = str(selected_pet_status[0])\n",
    "print(f\"Selected PET Status: {PETStatus}\")\n",
    "\n",
    "print(\"PET STATUS CHANGES:\")\n",
    "for i in accession_list:\n",
    "    pet_accession_number = i\n",
    "    print(i + ' -> ' + PETStatus)\n",
    "    # Updates PET status"
   ]
  },
  {
   "cell_type": "code",
   "execution_count": 11,
   "id": "f30033ce-33ba-4d6d-9427-d991d167b498",
   "metadata": {},
   "outputs": [
    {
     "name": "stdin",
     "output_type": "stream",
     "text": [
      "Enter XNAT password:  ········\n"
     ]
    }
   ],
   "source": [
    "def login():\n",
    "    # Set the URL of the jsession webpage\n",
    "    jsession_url = 'https://dca.wustl.edu/data/JSESSION'\n",
    "    # Get password, response, and soup object\n",
    "    password = getpass.getpass(\"Enter XNAT password: \")\n",
    "    response = requests.get(jsession_url, auth=('nvii', password))\n",
    "    html = response.text\n",
    "    soup = BeautifulSoup(html, \"html.parser\")\n",
    "    jsession_token = str(soup)\n",
    "    # Send a request to the webpage and get the HTML response\n",
    "    response = requests.get(jsession_url)\n",
    "    html = response.text\n",
    "    # Create a Beautiful Soup object from the HTML\n",
    "    soup = BeautifulSoup(html, \"html.parser\")\n",
    "    # Convert the soup into a usable token \n",
    "    # Wipe the password from memory\n",
    "    password = None; del password\n",
    "    return jsession_token\n",
    "\n",
    "jsession_token = login()"
   ]
  },
  {
   "cell_type": "code",
   "execution_count": 12,
   "id": "0a8fb452-e3e9-418d-9dcf-8699492f59ed",
   "metadata": {},
   "outputs": [
    {
     "name": "stdout",
     "output_type": "stream",
     "text": [
      "/mnt/benzinger3/norah/py_scripts/status_helper\n"
     ]
    }
   ],
   "source": [
    "os.chdir('/mnt/benzinger3/norah/py_scripts/status_helper')\n",
    "print(os.getcwd())"
   ]
  },
  {
   "cell_type": "code",
   "execution_count": 13,
   "id": "50523509-8c07-40ff-b0e7-779110456dc4",
   "metadata": {},
   "outputs": [],
   "source": [
    "note = 'Manual ROIs'\n",
    "note = 'null'"
   ]
  },
  {
   "cell_type": "code",
   "execution_count": null,
   "id": "58fc7cc5-936f-406d-882a-3c1b8dfc0fc6",
   "metadata": {},
   "outputs": [],
   "source": [
    "# Updates PET status\n",
    "for i in accession_list:\n",
    "    accession_number = i\n",
    "    subprocess.run(['./set_dca_petstatus_jsession.sh', jsession_token, accession_number, PETStatus, note], capture_output=True).stdout.decode('utf-8')\n",
    "    print(f\"{i} updated to {PETStatus}.\")"
   ]
  },
  {
   "cell_type": "code",
   "execution_count": 14,
   "id": "3efd600e-84b2-4c1c-b309-c7972bcda825",
   "metadata": {},
   "outputs": [
    {
     "name": "stdout",
     "output_type": "stream",
     "text": [
      "DCA74_E00172 updated to Usable.\n",
      "DCA75_E00915 updated to Usable.\n",
      "DCA76_E00247 updated to Usable.\n",
      "DCA70_E00048 updated to Usable.\n",
      "DCA75_E00324 updated to Usable.\n",
      "DCA63_E01385 updated to Usable.\n",
      "DIANTU46_E01775 updated to Usable.\n",
      "DIANTU46_E00659 updated to Usable.\n",
      "DCA91_E00053 updated to Usable.\n",
      "DCA88_E00241 updated to Usable.\n",
      "DCA91_E00020 updated to Usable.\n"
     ]
    }
   ],
   "source": [
    "# Updates MR status\n",
    "for i in accession_list:\n",
    "    accession_number = i\n",
    "    subprocess.run(['./set_dca_mrstatus_jsession.sh', jsession_token, accession_number, MRStatus, note], capture_output=True).stdout.decode('utf-8')\n",
    "    print(f\"{i} updated to {MRStatus}.\")"
   ]
  }
 ],
 "metadata": {
  "kernelspec": {
   "display_name": "Python 3 (ipykernel)",
   "language": "python",
   "name": "python3"
  },
  "language_info": {
   "codemirror_mode": {
    "name": "ipython",
    "version": 3
   },
   "file_extension": ".py",
   "mimetype": "text/x-python",
   "name": "python",
   "nbconvert_exporter": "python",
   "pygments_lexer": "ipython3",
   "version": "3.8.15"
  }
 },
 "nbformat": 4,
 "nbformat_minor": 5
}
